{
 "cells": [
  {
   "cell_type": "markdown",
   "id": "617b3f1f",
   "metadata": {},
   "source": [
    "# Simple CNN Clasifier"
   ]
  },
  {
   "cell_type": "code",
   "execution_count": 1,
   "id": "21b36748",
   "metadata": {},
   "outputs": [],
   "source": [
    "import pandas as pd\n",
    "import numpy as np\n",
    "import matplotlib.pyplot as plt"
   ]
  },
  {
   "cell_type": "code",
   "execution_count": 2,
   "id": "0d511317",
   "metadata": {},
   "outputs": [],
   "source": [
    "import torch\n",
    "import torch.nn as nn\n",
    "import torch.nn.functional as F\n",
    "from torch.utils.data import DataLoader, TensorDataset\n",
    "\n",
    "from sklearn.preprocessing import LabelEncoder\n",
    "from sklearn.model_selection import train_test_split\n",
    "from sklearn.metrics import classification_report, confusion_matrix, ConfusionMatrixDisplay\n"
   ]
  },
  {
   "cell_type": "markdown",
   "id": "bfb3560c",
   "metadata": {},
   "source": [
    "## Hardaware Verifications"
   ]
  },
  {
   "cell_type": "code",
   "execution_count": 3,
   "id": "b932bab4",
   "metadata": {},
   "outputs": [
    {
     "name": "stdout",
     "output_type": "stream",
     "text": [
      "11.8\n",
      "CUDA disponible: True\n",
      "Dispositivo actual: 0\n",
      "Nombre GPU: NVIDIA GeForce RTX 3050 Laptop GPU\n"
     ]
    }
   ],
   "source": [
    "print(torch.version.cuda)\n",
    "\n",
    "print(\"CUDA disponible:\", torch.cuda.is_available())\n",
    "print(\"Dispositivo actual:\", torch.cuda.current_device() if torch.cuda.is_available() else \"CPU\")\n",
    "print(\"Nombre GPU:\", torch.cuda.get_device_name(0) if torch.cuda.is_available() else \"N/A\")"
   ]
  },
  {
   "cell_type": "markdown",
   "id": "a468f16c",
   "metadata": {},
   "source": [
    "## Model Running"
   ]
  },
  {
   "cell_type": "code",
   "execution_count": 4,
   "id": "9ca7eb01",
   "metadata": {},
   "outputs": [],
   "source": [
    "# 📁 Cargar datos\n",
    "df = pd.read_csv(\"embeddings_csv/all_embeddings.csv\")\n",
    "X = df[[f'emb_{i}' for i in range(1024)]].values\n",
    "y = df[\"label\"].values\n",
    "\n",
    "# 🔤 Codificar etiquetas\n",
    "le = LabelEncoder()\n",
    "y_encoded = le.fit_transform(y)\n",
    "num_classes = len(le.classes_)"
   ]
  },
  {
   "cell_type": "code",
   "execution_count": null,
   "id": "1da52328",
   "metadata": {},
   "outputs": [],
   "source": [
    "# 🧪 Dividir datos\n",
    "X_train, X_val, y_train, y_val = train_test_split(X, y_encoded, test_size=0.2, stratify=y_encoded, random_state=42)\n",
    "\n",
    "# 🔄 Reestructurar como (N, 1, 32, 32)\n",
    "X_train = X_train.reshape(-1, 1, 32, 32).astype(np.float32)\n",
    "X_val = X_val.reshape(-1, 1, 32, 32).astype(np.float32)\n",
    "\n",
    "# 🧱 Crear Datasets y Dataloaders\n",
    "train_ds = TensorDataset(torch.tensor(X_train), torch.tensor(y_train))\n",
    "val_ds = TensorDataset(torch.tensor(X_val), torch.tensor(y_val))\n",
    "train_dl = DataLoader(train_ds, batch_size=64, shuffle=True)\n",
    "val_dl = DataLoader(val_ds, batch_size=64)"
   ]
  },
  {
   "cell_type": "code",
   "execution_count": 6,
   "id": "96c04ef8",
   "metadata": {},
   "outputs": [],
   "source": [
    "# 🧠 Definir red neuronal\n",
    "class CNNClassifier(nn.Module):\n",
    "    def __init__(self, num_classes):\n",
    "        super().__init__()\n",
    "        self.conv1 = nn.Conv2d(1, 32, kernel_size=3, padding=1)\n",
    "        self.conv2 = nn.Conv2d(32, 64, kernel_size=3, padding=1)\n",
    "        self.pool = nn.MaxPool2d(2)\n",
    "        self.dropout = nn.Dropout(0.3)\n",
    "        self.fc1 = nn.Linear(64 * 8 * 8, 128)\n",
    "        self.fc2 = nn.Linear(128, num_classes)\n",
    "\n",
    "    def forward(self, x):\n",
    "        x = self.pool(F.relu(self.conv1(x)))\n",
    "        x = self.pool(F.relu(self.conv2(x)))\n",
    "        x = x.view(x.size(0), -1)\n",
    "        x = self.dropout(F.relu(self.fc1(x)))\n",
    "        return self.fc2(x)\n"
   ]
  },
  {
   "cell_type": "code",
   "execution_count": 8,
   "id": "5b7080dd",
   "metadata": {},
   "outputs": [
    {
     "name": "stdout",
     "output_type": "stream",
     "text": [
      "Epoch 1: Train Loss = 1.1059\n",
      "Epoch 2: Train Loss = 1.0611\n",
      "Epoch 3: Train Loss = 0.9854\n",
      "Epoch 4: Train Loss = 0.9578\n",
      "Epoch 5: Train Loss = 0.8424\n",
      "Epoch 6: Train Loss = 0.8415\n",
      "Epoch 7: Train Loss = 0.6457\n",
      "Epoch 8: Train Loss = 0.6840\n",
      "Epoch 9: Train Loss = 0.5099\n",
      "Epoch 10: Train Loss = 0.3550\n",
      "Epoch 11: Train Loss = 0.5677\n",
      "Epoch 12: Train Loss = 0.2488\n",
      "Epoch 13: Train Loss = 0.2137\n",
      "Epoch 14: Train Loss = 0.2408\n",
      "Epoch 15: Train Loss = 0.2068\n",
      "Epoch 16: Train Loss = 0.1201\n",
      "Epoch 17: Train Loss = 0.0589\n",
      "Epoch 18: Train Loss = 0.0866\n",
      "Epoch 19: Train Loss = 0.0871\n",
      "Epoch 20: Train Loss = 0.0244\n"
     ]
    }
   ],
   "source": [
    "# 🚀 Entrenar modelo\n",
    "device = torch.device(\"cuda\" if torch.cuda.is_available() else \"cpu\")\n",
    "model = CNNClassifier(num_classes).to(device)\n",
    "optimizer = torch.optim.Adam(model.parameters(), lr=1e-3)\n",
    "criterion = nn.CrossEntropyLoss()\n",
    "\n",
    "for epoch in range(1, 21):\n",
    "    model.train()\n",
    "    total_loss = 0\n",
    "    for xb, yb in train_dl:\n",
    "        xb, yb = xb.to(device), yb.to(device).long()\n",
    "        pred = model(xb)\n",
    "        loss = criterion(pred, yb)\n",
    "        optimizer.zero_grad()\n",
    "        loss.backward()\n",
    "        optimizer.step()\n",
    "        total_loss += loss.item()\n",
    "    print(f\"Epoch {epoch}: Train Loss = {total_loss / len(train_dl):.4f}\")\n"
   ]
  },
  {
   "cell_type": "code",
   "execution_count": 9,
   "id": "c2e8e2eb",
   "metadata": {},
   "outputs": [
    {
     "name": "stdout",
     "output_type": "stream",
     "text": [
      "              precision    recall  f1-score   support\n",
      "\n",
      "     bobfly1       1.00      1.00      1.00         1\n",
      "     bubcur1       1.00      1.00      1.00         1\n",
      "     bubwre1       1.00      1.00      1.00         1\n",
      "\n",
      "    accuracy                           1.00         3\n",
      "   macro avg       1.00      1.00      1.00         3\n",
      "weighted avg       1.00      1.00      1.00         3\n",
      "\n"
     ]
    }
   ],
   "source": [
    "# ✅ Evaluar\n",
    "model.eval()\n",
    "y_true, y_pred = [], []\n",
    "with torch.no_grad():\n",
    "    for xb, yb in val_dl:\n",
    "        xb = xb.to(device)\n",
    "        outputs = model(xb)\n",
    "        preds = torch.argmax(outputs, dim=1).cpu().numpy()\n",
    "        y_true.extend(yb.numpy())\n",
    "        y_pred.extend(preds)\n",
    "\n",
    "print(classification_report(y_true, y_pred, target_names=le.classes_))"
   ]
  },
  {
   "cell_type": "code",
   "execution_count": 10,
   "id": "f8573894",
   "metadata": {},
   "outputs": [
    {
     "data": {
      "image/png": "[encoded data removed]",
      "text/plain": [
       "<Figure size 640x480 with 2 Axes>"
      ]
     },
     "metadata": {},
     "output_type": "display_data"
    }
   ],
   "source": [
    "# 📊 Confusion matrix\n",
    "cm = confusion_matrix(y_true, y_pred)\n",
    "disp = ConfusionMatrixDisplay(confusion_matrix=cm, display_labels=le.classes_)\n",
    "disp.plot(cmap=\"Blues\", xticks_rotation=45)\n",
    "plt.title(\"Confusion Matrix (PyTorch)\")\n",
    "plt.grid(False)\n",
    "plt.show()"
   ]
  }
 ],
 "metadata": {
  "kernelspec": {
   "display_name": "Class-env",
   "language": "python",
   "name": "python3"
  },
  "language_info": {
   "codemirror_mode": {
    "name": "ipython",
    "version": 3
   },
   "file_extension": ".py",
   "mimetype": "text/x-python",
   "name": "python",
   "nbconvert_exporter": "python",
   "pygments_lexer": "ipython3",
   "version": "3.10.9"
  }
 },
 "nbformat": 4,
 "nbformat_minor": 5
}
