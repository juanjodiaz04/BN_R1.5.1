{
 "cells": [
  {
   "cell_type": "code",
   "execution_count": null,
   "id": "c83fe48f",
   "metadata": {},
   "outputs": [],
   "source": [
    "import pandas as pd\n",
    "import os"
   ]
  },
  {
   "cell_type": "code",
   "execution_count": 5,
   "id": "d4937413",
   "metadata": {},
   "outputs": [
    {
     "name": "stdout",
     "output_type": "stream",
     "text": [
      "✅ Saved 9 rows to embeddings_csv\\all_embeddings.csv\n"
     ]
    }
   ],
   "source": [
    "# This script reads text files containing embeddings from a directory structure\n",
    "input_root = \"embeddings\"\n",
    "output_folder = \"embeddings_csv\"\n",
    "output_path = os.path.join(output_folder, \"all_embeddings.csv\")\n",
    "\n",
    "os.makedirs(output_folder, exist_ok=True)\n",
    "\n",
    "all_rows = []\n",
    "\n",
    "for class_folder in os.listdir(input_root):\n",
    "    class_path = os.path.join(input_root, class_folder)\n",
    "    if not os.path.isdir(class_path):\n",
    "        continue\n",
    "\n",
    "    for filename in os.listdir(class_path):\n",
    "        if filename.endswith(\".txt\"):\n",
    "            input_path = os.path.join(class_path, filename)\n",
    "\n",
    "            # Extract ID: remove .birdnet.embeddings.txt\n",
    "            id_name = filename.replace(\".birdnet.embeddings.txt\", \"\")\n",
    "\n",
    "            with open(input_path, \"r\") as f:\n",
    "                for line in f:\n",
    "                    parts = line.strip().split(\"\\t\")\n",
    "                    if len(parts) != 3:\n",
    "                        continue\n",
    "\n",
    "                    embedding = list(map(float, parts[2].split(\",\")))\n",
    "                    row = [id_name, class_folder] + embedding\n",
    "                    all_rows.append(row)\n",
    "\n",
    "# Create column headers\n",
    "embedding_dim = len(all_rows[0]) - 2\n",
    "columns = [\"id\", \"label\"] + [f\"emb_{i}\" for i in range(embedding_dim)]\n",
    "\n",
    "df = pd.DataFrame(all_rows, columns=columns)\n",
    "df.to_csv(output_path, index=False)\n",
    "\n",
    "print(f\"✅ Saved {len(df)} rows to {output_path}\")\n"
   ]
  }
 ],
 "metadata": {
  "kernelspec": {
   "display_name": "Python 3",
   "language": "python",
   "name": "python3"
  },
  "language_info": {
   "codemirror_mode": {
    "name": "ipython",
    "version": 3
   },
   "file_extension": ".py",
   "mimetype": "text/x-python",
   "name": "python",
   "nbconvert_exporter": "python",
   "pygments_lexer": "ipython3",
   "version": "3.11.8"
  }
 },
 "nbformat": 4,
 "nbformat_minor": 5
}
